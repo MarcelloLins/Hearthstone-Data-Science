{
 "cells": [
  {
   "cell_type": "markdown",
   "metadata": {
    "collapsed": false
   },
   "source": [
    "# Downloading Hearthstone Data\n",
    "\n",
    "Thanks to the great <a href=\"https://market.mashape.com/omgvamp/hearthstone#\">OMG VAMP hearth API</a> we can download the data of all cards and structure it as we need.\n",
    "\n",
    "For this use-case I have saved the data as a CSV, structuring it in a way that will allow me to work with it using Pandas and other Data Science python libraries."
   ]
  },
  {
   "cell_type": "code",
   "execution_count": 10,
   "metadata": {
    "collapsed": true
   },
   "outputs": [],
   "source": [
    "import unirest as requests\n",
    "import json\n",
    "import csv\n",
    "from collections import Counter"
   ]
  },
  {
   "cell_type": "code",
   "execution_count": 11,
   "metadata": {
    "collapsed": false
   },
   "outputs": [],
   "source": [
    "# HTTP Request for Cards Data\n",
    "request_headers = {'X-Mashape-Key':'vYlGUlNJVUmshZe4dtiXYPmEwDYgp1XSB4rjsnnlqYok4ygKpT'}\n",
    "response = requests.get('https://omgvamp-hearthstone-v1.p.mashape.com/cards', headers=request_headers)\n",
    "all_cards = response.body"
   ]
  },
  {
   "cell_type": "code",
   "execution_count": 12,
   "metadata": {
    "collapsed": false
   },
   "outputs": [],
   "source": [
    "# Defining Dictionary Fixing Function\n",
    "def fix_dict_encoding(dictionary):\n",
    "    \"\"\"\n",
    "    'Fixes' the text of all keys of the dictionary by attempting to replace characters that are problematic\n",
    "    to be encoded in unicode by their unicode representation\n",
    "    \"\"\"\n",
    "    \n",
    "    for key, value in dictionary.items():\n",
    "\n",
    "        # Is it a string ? (Otherwise it won't need fixing)\n",
    "        if isinstance(value, unicode):\n",
    "            dictionary[key] = dictionary[key].replace(u'\\u2019', u'\\'').replace(u'\\u2026',u' ').replace(u'\\u2018',u'\\'')\n",
    "            dictionary[key] = dictionary[key].replace(u'\\u201c', u'').replace(u'\\u201d', u'').replace(u'\\xa0',u' ')\n",
    "            dictionary[key] = dictionary[key].replace(u'\\xf1', u'n').replace(u'\\u2122', u'').replace(u'\\xe9', 'e')\n",
    "            dictionary[key] = dictionary[key].replace(u'\\u2013', u'').replace(u'\\xf6', u'o')\n",
    "            \n",
    "    return dictionary"
   ]
  },
  {
   "cell_type": "code",
   "execution_count": 13,
   "metadata": {
    "collapsed": false
   },
   "outputs": [
    {
     "name": "stdout",
     "output_type": "stream",
     "text": [
      "[(u'Classic', 394), (u'The League of Explorers', 254), (u'Tavern Brawl', 248), (u'Karazhan', 228), (u'Blackrock Mountain', 221), (u'Whispers of the Old Gods', 217), (u'Basic', 209), (u'The Grand Tournament', 206), (u'Goblins vs Gnomes', 180), (u'Naxxramas', 160), (u'Debug', 85), (u'Credits', 46), (u'Missions', 36), (u'Hero Skins', 21), (u'Promo', 13), (u'Reward', 2), (u'System', 1)]\n"
     ]
    }
   ],
   "source": [
    "# Dumping data from in memory dictionary to a csv_file\n",
    "with open('hearth.csv', 'wb') as f_writer:\n",
    "    keys = ['cardId', 'name', 'cardSet', 'type', 'rarity', 'mechanics_list', 'mechanics_count', 'playerClass','faction', 'cost',\n",
    "            'health', 'attack', 'collectible', 'race', 'artist','text', 'flavor', 'locale']\n",
    "    \n",
    "    # Defining DictWriter class (Including headers and setting it to ignore extra fields found on the dict)\n",
    "    w = csv.DictWriter(f_writer, fieldnames=keys, extrasaction='ignore')\n",
    "    w.writeheader()\n",
    "    \n",
    "    # Counters\n",
    "    counters = Counter()\n",
    "    for group, group_cards in all_cards.items():\n",
    "        \n",
    "        for card in group_cards:\n",
    "            \n",
    "            try:\n",
    "                if 'mechanics' in card:\n",
    "                    card['mechanics_count'] = len(card['mechanics'])                    \n",
    "                    \n",
    "                    # Appending elements to it's 'list' of mechanics \n",
    "                    mechanics = []\n",
    "                    for item in card['mechanics']:\n",
    "                        mechanics.append(item['name'])\n",
    "                        \n",
    "                    card['mechanics_list'] = '#'.join(mechanics)\n",
    "                else:\n",
    "                    card['mechanics_count'] = 0\n",
    "                    card['mechanics_list'] = None\n",
    "                    \n",
    "                # Hard-fixing encoding characters because of encoding errors\n",
    "                card = fix_dict_encoding(card)\n",
    "                    \n",
    "                w.writerow(card)\n",
    "                counters[group] += 1\n",
    "                \n",
    "            except UnicodeEncodeError as ex:\n",
    "                print str(card) + '\\n=========================\\n'\n",
    "                counters['UnicodeEncodeError'] += 1\n",
    "\n",
    "print counters.most_common()"
   ]
  },
  {
   "cell_type": "code",
   "execution_count": null,
   "metadata": {
    "collapsed": true
   },
   "outputs": [],
   "source": []
  }
 ],
 "metadata": {
  "kernelspec": {
   "display_name": "Python 2",
   "language": "python",
   "name": "python2"
  },
  "language_info": {
   "codemirror_mode": {
    "name": "ipython",
    "version": 2
   },
   "file_extension": ".py",
   "mimetype": "text/x-python",
   "name": "python",
   "nbconvert_exporter": "python",
   "pygments_lexer": "ipython2",
   "version": "2.7.12"
  }
 },
 "nbformat": 4,
 "nbformat_minor": 1
}
